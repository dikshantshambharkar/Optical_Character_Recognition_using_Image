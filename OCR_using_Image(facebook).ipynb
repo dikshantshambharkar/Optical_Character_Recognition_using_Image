{
  "nbformat": 4,
  "nbformat_minor": 0,
  "metadata": {
    "colab": {
      "provenance": [],
      "authorship_tag": "ABX9TyO/MD2ItRjEgGWX/5ychUY6",
      "include_colab_link": true
    },
    "kernelspec": {
      "name": "python3",
      "display_name": "Python 3"
    },
    "language_info": {
      "name": "python"
    }
  },
  "cells": [
    {
      "cell_type": "markdown",
      "metadata": {
        "id": "view-in-github",
        "colab_type": "text"
      },
      "source": [
        "<a href=\"https://colab.research.google.com/github/dikshantshambharkar/Optical_Character_Recognition_using_Image/blob/main/OCR_using_Image(facebook).ipynb\" target=\"_parent\"><img src=\"https://colab.research.google.com/assets/colab-badge.svg\" alt=\"Open In Colab\"/></a>"
      ]
    },
    {
      "cell_type": "markdown",
      "source": [
        "**OPTICAL CHARACTER RECOGNITION USING IMAGE**"
      ],
      "metadata": {
        "id": "bYQWOSPBYU17"
      }
    },
    {
      "cell_type": "markdown",
      "source": [
        "In this project , we will extract text from the images. After text extraction we will apply functions of OpenCV on text to enhance it and get more accurate results"
      ],
      "metadata": {
        "id": "jXH4X_vqYcfQ"
      }
    },
    {
      "cell_type": "markdown",
      "source": [
        "Importing requests library for fetching the URL for git files and images"
      ],
      "metadata": {
        "id": "LsS_hsJoZMH4"
      }
    },
    {
      "cell_type": "code",
      "source": [
        "#import requests to install tesseract\n",
        "import requests"
      ],
      "metadata": {
        "id": "3wPukKbqZYeX"
      },
      "execution_count": 1,
      "outputs": []
    },
    {
      "cell_type": "markdown",
      "source": [
        "Download tesseract which is required for pytesseract library to run and save the file at the path in open() function"
      ],
      "metadata": {
        "id": "muyegBCVZjwZ"
      }
    },
    {
      "cell_type": "code",
      "source": [
        "# Downloading tesseract-ocr file\n",
        "r = requests.get(\"https://raw.githubusercontent.com/tesseract-ocr/tessdata/4.00/ind.traineddata\",stream = True)\n",
        "\n",
        "# Writing data to file to avoid path issues\n",
        "with open(\"/usr/share/tesseract-ocr/4.00/tessdata/ind.traineddata\",\"wb\") as file:\n",
        "  for block in r.iter_content(chunk_size = 1024):\n",
        "    if block:\n",
        "      file.write(block)"
      ],
      "metadata": {
        "id": "x05hRaezZ0yt"
      },
      "execution_count": 5,
      "outputs": []
    },
    {
      "cell_type": "markdown",
      "source": [
        "Required Libraries"
      ],
      "metadata": {
        "id": "ePzorofobMJh"
      }
    },
    {
      "cell_type": "code",
      "source": [
        "# installing libraries required for optical character recognition\n",
        "! apt install tesseract-ocr libtesseract-dev libmagickwand-dev\n",
        "\n",
        "#Importing IPython to clear output which is not important\n",
        "from IPython.display import HTML, clear_output\n",
        "clear_output()"
      ],
      "metadata": {
        "id": "7Rm_Ru63bTq-"
      },
      "execution_count": 6,
      "outputs": []
    },
    {
      "cell_type": "code",
      "source": [
        "# Installing pytesseract and opencv\n",
        "! pip install pytesseract wand opencv-python\n",
        "clear_output()"
      ],
      "metadata": {
        "id": "Og10tvOqb-RL"
      },
      "execution_count": 7,
      "outputs": []
    },
    {
      "cell_type": "code",
      "source": [
        "# Importing libraries\n",
        "from PIL import Image                       #Open,Load,Download the image\n",
        "import pytesseract                          #Library for extracting the text\n",
        "import cv2                                  #OpenCV for Image Processing\n",
        "import numpy as np                          #Computation\n",
        "from pytesseract import Output              #provide the output format for the OCR result\n",
        "import re                                   # Regular expressions -tool for pattern matching and string manipulation\n"
      ],
      "metadata": {
        "id": "YRqREr-gcuKi"
      },
      "execution_count": 11,
      "outputs": []
    },
    {
      "cell_type": "markdown",
      "source": [
        "Download Image from URl , save it and resize it and save again for further use and visualize it"
      ],
      "metadata": {
        "id": "rBhgcYQLeUfh"
      }
    },
    {
      "cell_type": "code",
      "source": [
        "# Reading image from URL\n",
        "image = Image.open(requests.get('https://upload.wikimedia.org/wikipedia/commons/thumb/7/7c/Facebook_New_Logo_%282015%29.svg/800px-Facebook_New_Logo_%282015%29.svg.png', stream=True).raw)\n",
        "image = image.resize((300,150))\n",
        "image.save('sample.png')\n",
        "image"
      ],
      "metadata": {
        "colab": {
          "base_uri": "https://localhost:8080/",
          "height": 167
        },
        "id": "pqRrJJGUenff",
        "outputId": "9d80207a-cec2-41dd-9d6d-6eeeb808306f"
      },
      "execution_count": 51,
      "outputs": [
        {
          "output_type": "execute_result",
          "data": {
            "text/plain": [
              "<PIL.Image.Image image mode=P size=300x150>"
            ],
            "image/png": "[encoded data removed]"
          },
          "metadata": {},
          "execution_count": 51
        }
      ]
    },
    {
      "cell_type": "markdown",
      "source": [
        "Extracting the text from the image with custom configuration."
      ],
      "metadata": {
        "id": "bgqt55QwhB7x"
      }
    },
    {
      "cell_type": "code",
      "source": [
        "# Simply extracting text from image\n",
        "#custom_config = r'-l eng --oem 3 --psm 6'\n",
        "#text = pytesseract.image_to_string(image,config=custom_config)\n",
        "text = pytesseract.image_to_string(image)\n",
        "print(text)"
      ],
      "metadata": {
        "colab": {
          "base_uri": "https://localhost:8080/"
        },
        "id": "P24avuRPhI4X",
        "outputId": "9fb62012-e227-46fb-906c-45b6d90e9d57"
      },
      "execution_count": 52,
      "outputs": [
        {
          "output_type": "stream",
          "name": "stdout",
          "text": [
            "facebook\n",
            "\f\n"
          ]
        }
      ]
    },
    {
      "cell_type": "markdown",
      "source": [
        "Removing the unwanted symbols from text"
      ],
      "metadata": {
        "id": "TYVvtB3Hh9QI"
      }
    },
    {
      "cell_type": "code",
      "source": [
        "# Extracting text from image and removing irrelevant symbols from characters\n",
        "try:\n",
        "  text=pytesseract.image_to_string(image,lang=\"eng\")\n",
        "  characters_to_remove = \"!()@-*><+-/\\,.#$%^&~`_\"\n",
        "  new_string = text\n",
        "  for character in characters_to_remove:\n",
        "    new_string = new_string.replace(character,\"\")\n",
        "  print(new_string)\n",
        "except IOError as e:\n",
        "  print(\"Error (%s).\"% e)"
      ],
      "metadata": {
        "colab": {
          "base_uri": "https://localhost:8080/"
        },
        "id": "T1sgZwv0iE40",
        "outputId": "77685dd7-39c8-48ed-ea89-9837be0a4a4b"
      },
      "execution_count": 53,
      "outputs": [
        {
          "output_type": "stream",
          "name": "stdout",
          "text": [
            "facebook\n",
            "\f\n"
          ]
        }
      ]
    },
    {
      "cell_type": "markdown",
      "source": [
        "Now we are reading the image into opencv format to process it further. This is required when we need to extract the text from complex images."
      ],
      "metadata": {
        "id": "9lL3AM00jW_p"
      }
    },
    {
      "cell_type": "code",
      "source": [
        "# Now we will perform opencv operations to ger text from complex images\n",
        "image = cv2.imread('sample.png')"
      ],
      "metadata": {
        "id": "OZexzmYfjmA8"
      },
      "execution_count": 54,
      "outputs": []
    },
    {
      "cell_type": "markdown",
      "source": [
        "Converting the image to grayscale, it becomes less complex to process as it will have only two values 0 and 1. cv2.cvtColor() method is used to convert an image from color space to another.\n",
        "There are more than 150 color-space conversion methods available in openCV"
      ],
      "metadata": {
        "id": "1lxFlf0Mj6YT"
      }
    },
    {
      "cell_type": "code",
      "source": [
        "# get greyscale image\n",
        "def get_grayscale(image):\n",
        "  return cv2.cvtColor(image, cv2.COLOR_BGR2GRAY)\n",
        "gray = get_grayscale(image)\n",
        "Image.fromarray(gray)"
      ],
      "metadata": {
        "colab": {
          "base_uri": "https://localhost:8080/",
          "height": 167
        },
        "id": "uBTBVgJfkgx3",
        "outputId": "7b880338-3a9b-49d2-cfa6-5048e82e35f0"
      },
      "execution_count": 55,
      "outputs": [
        {
          "output_type": "execute_result",
          "data": {
            "text/plain": [
              "<PIL.Image.Image image mode=L size=300x150>"
            ],
            "image/png": "[encoded data removed]"
          },
          "metadata": {},
          "execution_count": 55
        }
      ]
    },
    {
      "cell_type": "markdown",
      "source": [
        "Now we will blur the image to remove the noise from the image. The funvtion cv2.medianBlur() computes the median of all the pixels under the kernel window and the central pixel is replaced with this median value. This is highly effective in removing noise"
      ],
      "metadata": {
        "id": "TXIPhvKLlB9F"
      }
    },
    {
      "cell_type": "code",
      "source": [
        "# noise removal\n",
        "def remove_noise(image):\n",
        "  return cv2.medianBlur(image,5)\n",
        "noise = remove_noise(gray)\n",
        "Image.fromarray(gray)"
      ],
      "metadata": {
        "colab": {
          "base_uri": "https://localhost:8080/",
          "height": 167
        },
        "id": "arDGqPsanr__",
        "outputId": "fea6b8e9-683f-4e97-c6b7-3231c91b216f"
      },
      "execution_count": 56,
      "outputs": [
        {
          "output_type": "execute_result",
          "data": {
            "text/plain": [
              "<PIL.Image.Image image mode=L size=300x150>"
            ],
            "image/png": "[encoded data removed]"
          },
          "metadata": {},
          "execution_count": 56
        }
      ]
    },
    {
      "cell_type": "markdown",
      "source": [
        "Now we will perform threshold transformation. If pixel value is greater than a threshold value, it is assigned one value (may be white), else it is assigned another value (may be black). The function used is cv2.threshold. First argument is the source image, which should be a grayscale image."
      ],
      "metadata": {
        "id": "SjVa4HZ8oByE"
      }
    },
    {
      "cell_type": "code",
      "source": [
        "# thresholding\n",
        "def thresholding(image):\n",
        "  return cv2.threshold(image, 0, 255, cv2.THRESH_BINARY + cv2.THRESH_OTSU)[1]\n",
        "thresh = thresholding(gray)\n",
        "Image.fromarray(thresh)"
      ],
      "metadata": {
        "colab": {
          "base_uri": "https://localhost:8080/",
          "height": 167
        },
        "id": "lK7sY7qqogpz",
        "outputId": "27427060-64f7-41e0-f568-15d34494b12a"
      },
      "execution_count": 57,
      "outputs": [
        {
          "output_type": "execute_result",
          "data": {
            "text/plain": [
              "<PIL.Image.Image image mode=L size=300x150>"
            ],
            "image/png": "[encoded data removed]"
          },
          "metadata": {},
          "execution_count": 57
        }
      ]
    },
    {
      "cell_type": "markdown",
      "source": [
        "Now erode Transformation. cv2.reode() method is used to perform erosion on the image. It erodes away the boundaries of foreground object(Always try to keep foreground in white). It is normally performed on binary images. It needs two inputs , original image and second one is called structuring element on kernel which decides the nature of operation."
      ],
      "metadata": {
        "id": "LZJyQKN8uNb7"
      }
    },
    {
      "cell_type": "code",
      "source": [
        "# erosion\n",
        "def erode(image):\n",
        "  kernel = np.ones((5,5),np.uint8)\n",
        "  return cv2.erode(image,kernel,iterations = 1)\n",
        "erode = erode(gray)\n",
        "Image.fromarray(erode)"
      ],
      "metadata": {
        "colab": {
          "base_uri": "https://localhost:8080/",
          "height": 167
        },
        "id": "g7P-VEz-u35e",
        "outputId": "4d9d0b97-11ff-40d7-b99b-381d809c4c72"
      },
      "execution_count": 58,
      "outputs": [
        {
          "output_type": "execute_result",
          "data": {
            "text/plain": [
              "<PIL.Image.Image image mode=L size=300x150>"
            ],
            "image/png": "[encoded data removed]"
          },
          "metadata": {},
          "execution_count": 58
        }
      ]
    },
    {
      "cell_type": "markdown",
      "source": [
        "Here we will perform morphological transformation . It is useful in opening small holes inside the foreground objects, or small white points on the object"
      ],
      "metadata": {
        "id": "zQn7GxUUvdqp"
      }
    },
    {
      "cell_type": "code",
      "source": [
        "# Morphology\n",
        "def opening(image):\n",
        "  kernel = np.ones((5,5),np.uint8)\n",
        "  return cv2.morphologyEx(image, cv2.MORPH_OPEN, kernel)\n",
        "opening = opening(gray)\n",
        "Image.fromarray(opening)"
      ],
      "metadata": {
        "colab": {
          "base_uri": "https://localhost:8080/",
          "height": 167
        },
        "id": "vQWNp8OHvwh2",
        "outputId": "aec0370e-216a-4fd5-8bd7-72d9b673c2b6"
      },
      "execution_count": 59,
      "outputs": [
        {
          "output_type": "execute_result",
          "data": {
            "text/plain": [
              "<PIL.Image.Image image mode=L size=300x150>"
            ],
            "image/png": "[encoded data removed]"
          },
          "metadata": {},
          "execution_count": 59
        }
      ]
    },
    {
      "cell_type": "markdown",
      "source": [
        "Canny transformation is used to detect edges in the image"
      ],
      "metadata": {
        "id": "zhdu4yNExn-0"
      }
    },
    {
      "cell_type": "code",
      "source": [
        "# canny edge detection\n",
        "def canny(image):\n",
        "  return cv2.Canny(image,100,200)\n",
        "canny = canny(gray)\n",
        "Image.fromarray(canny)"
      ],
      "metadata": {
        "colab": {
          "base_uri": "https://localhost:8080/",
          "height": 167
        },
        "id": "SsUsPdrSxwm2",
        "outputId": "adcffa6c-2aa4-48f5-e657-7962f3d7b995"
      },
      "execution_count": 60,
      "outputs": [
        {
          "output_type": "execute_result",
          "data": {
            "text/plain": [
              "<PIL.Image.Image image mode=L size=300x150>"
            ],
            "image/png": "[encoded data removed]"
          },
          "metadata": {},
          "execution_count": 60
        }
      ]
    },
    {
      "cell_type": "markdown",
      "source": [
        "Now we will apply deskew on the image. Deskewing is a process whereby skew is removed by rotating an image by the same amount as its skew but in the opposite direction. This results in a horizontally and vertically aligned image where the text runs across the page rather than at an angle."
      ],
      "metadata": {
        "id": "G656wzEWyIqh"
      }
    },
    {
      "cell_type": "code",
      "source": [
        "# skew correction\n",
        "def deskew(image):\n",
        "  coords = np.column_stack(np.where(image > 0))\n",
        "  angle = cv2.minAreaRect(coords)[-1]\n",
        "  if angle < -45:\n",
        "    angle = -(90 + angle)\n",
        "  else:\n",
        "    angle = -angle\n",
        "  (h,w) = image.shape[:2]\n",
        "  center = (w // 2, h//2)\n",
        "  M = cv2.getRotationMatrix2D(center, angle,1.0)\n",
        "  rotated = cv2.warpAffine(image,M,(w,h), flags= cv2.INTER_CUBIC,borderMode=cv2.BORDER_REPLICATE)\n",
        "  return rotated\n",
        "rotated = deskew(gray)\n",
        "Image.fromarray(rotated)"
      ],
      "metadata": {
        "colab": {
          "base_uri": "https://localhost:8080/",
          "height": 167
        },
        "id": "BGynS1Vxyx98",
        "outputId": "cbca1870-c461-40eb-c915-1620bb61c5f9"
      },
      "execution_count": 61,
      "outputs": [
        {
          "output_type": "execute_result",
          "data": {
            "text/plain": [
              "<PIL.Image.Image image mode=L size=300x150>"
            ],
            "image/png": "[encoded data removed]"
          },
          "metadata": {},
          "execution_count": 61
        }
      ]
    },
    {
      "cell_type": "markdown",
      "source": [
        "Now we will try to match the image.  Here, template matching is a method for searching and finding the loaction of a template image in a larger image. OpenCV comes with a function cv2.matchTemplate() for this purpose. It simply slides the template imag over the input image (as in 2D convolution) and compares the template and patch of input image under the template image."
      ],
      "metadata": {
        "id": "5gt5h4bM0rQs"
      }
    },
    {
      "cell_type": "code",
      "source": [
        "# template matching\n",
        "def match_template(image,template):\n",
        "  return cv2.matchTemplate(image,template, cv2.TM_CCOEFF_NORMED)\n",
        "match = match_template(gray, gray)\n",
        "match"
      ],
      "metadata": {
        "colab": {
          "base_uri": "https://localhost:8080/"
        },
        "id": "77uYOuKk1WzR",
        "outputId": "cf95808a-a8e8-43d0-a4ba-06e6c6540bc2"
      },
      "execution_count": 62,
      "outputs": [
        {
          "output_type": "execute_result",
          "data": {
            "text/plain": [
              "array([[1.]], dtype=float32)"
            ]
          },
          "metadata": {},
          "execution_count": 62
        }
      ]
    },
    {
      "cell_type": "markdown",
      "source": [
        "Now we will segregate every character in the text by creating a rectangle around it ."
      ],
      "metadata": {
        "id": "ton5xjdpAvQx"
      }
    },
    {
      "cell_type": "code",
      "source": [
        "# Drawing rectangle ariund text\n",
        "img = cv2.imread('sample.png')\n",
        "h, w, c = img.shape\n",
        "boxes = pytesseract.image_to_boxes(img)\n",
        "for b in boxes.splitlines():\n",
        "  b = b.split(' ')\n",
        "  img = cv2.rectangle(img, (int(b[1]), h - int(b[2])), (int(b[3]), h - int(b[4])), (0, 255, 0), 2)\n",
        "Image.fromarray(img)"
      ],
      "metadata": {
        "colab": {
          "base_uri": "https://localhost:8080/",
          "height": 167
        },
        "id": "MOBNNqQkAwHG",
        "outputId": "16a23d37-01c6-4394-e083-405e85c024e2"
      },
      "execution_count": 63,
      "outputs": [
        {
          "output_type": "execute_result",
          "data": {
            "text/plain": [
              "<PIL.Image.Image image mode=RGB size=300x150>"
            ],
            "image/png": "[encoded data removed]"
          },
          "metadata": {},
          "execution_count": 63
        }
      ]
    },
    {
      "cell_type": "markdown",
      "source": [
        "Similarly we can draw rectangle around the specific pattern or word"
      ],
      "metadata": {
        "id": "bUaXjHmSCipc"
      }
    },
    {
      "cell_type": "code",
      "source": [
        "# Drawing pattern on specific pattern or word\n",
        "img = cv2.imread('sample.png')\n",
        "d = pytesseract.image_to_data(img, output_type=Output.DICT)\n",
        "keys = list(d.keys())\n",
        "\n",
        "date_pattern = 'artificially'\n",
        "\n",
        "n_boxes = len(d['text'])\n",
        "for i in range(n_boxes):\n",
        "  if int(d['conf'][i]) > 60:\n",
        "    if re.match(date_pattern, d['text'][i]):\n",
        "      (x,y,w,h) = (d['left'][i],d['top'][i],d['width'][i],d['height'][i])\n",
        "      img = cv2.rectangle(img, (x,y), (x+w,y+h), (0,255,0),2)\n",
        "Image.fromarray(img)"
      ],
      "metadata": {
        "colab": {
          "base_uri": "https://localhost:8080/",
          "height": 167
        },
        "id": "6Ef9pRNdCi6E",
        "outputId": "f10facc7-8eab-4e7d-dc9e-68e725aa3438"
      },
      "execution_count": 64,
      "outputs": [
        {
          "output_type": "execute_result",
          "data": {
            "text/plain": [
              "<PIL.Image.Image image mode=RGB size=300x150>"
            ],
            "image/png": "[encoded data removed]"
          },
          "metadata": {},
          "execution_count": 64
        }
      ]
    },
    {
      "cell_type": "markdown",
      "source": [
        "**Conclusion** \\\n",
        "We learned about installing tesseract which was used for text extraction .Then we took an image and extracted the text. We also learned about image transformation functions of OpenCV in order to extract text from complex images."
      ],
      "metadata": {
        "id": "2Oxp3hXDL8qv"
      }
    },
    {
      "cell_type": "markdown",
      "source": [
        "**Scope**\\\n",
        "Organizations can use this to extract useful information from the image and store it. Individuals can use it foe saving their time and effort for typing"
      ],
      "metadata": {
        "id": "O2TvLVVOMrpO"
      }
    }
  ]
}